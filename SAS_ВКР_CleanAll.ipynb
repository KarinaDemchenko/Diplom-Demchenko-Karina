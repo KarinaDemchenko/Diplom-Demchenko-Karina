{
 "cells": [
  {
   "cell_type": "markdown",
   "metadata": {},
   "source": [
    "### Таблица с чисткой, но без удаления не доставленных товаров"
   ]
  },
  {
   "cell_type": "code",
   "execution_count": 1,
   "metadata": {},
   "outputs": [],
   "source": [
    "import numpy as np\n",
    "import pandas as pd\n",
    "import seaborn as sns\n",
    "import matplotlib.pyplot as plt\n",
    "from PIL import Image"
   ]
  },
  {
   "cell_type": "code",
   "execution_count": 2,
   "metadata": {},
   "outputs": [],
   "source": [
    "df_56 = pd.read_csv('data_05_06.csv', sep=';', encoding='cp1251', decimal=',')\n",
    "df_78 = pd.read_csv('data_07_08.csv', sep=';', encoding='cp1251', decimal=',')"
   ]
  },
  {
   "cell_type": "code",
   "execution_count": 3,
   "metadata": {},
   "outputs": [
    {
     "data": {
      "text/html": [
       "<div>\n",
       "<style scoped>\n",
       "    .dataframe tbody tr th:only-of-type {\n",
       "        vertical-align: middle;\n",
       "    }\n",
       "\n",
       "    .dataframe tbody tr th {\n",
       "        vertical-align: top;\n",
       "    }\n",
       "\n",
       "    .dataframe thead th {\n",
       "        text-align: right;\n",
       "    }\n",
       "</style>\n",
       "<table border=\"1\" class=\"dataframe\">\n",
       "  <thead>\n",
       "    <tr style=\"text-align: right;\">\n",
       "      <th></th>\n",
       "      <th>Дата</th>\n",
       "      <th>ДатаДоставки</th>\n",
       "      <th>НомерЗаказаНаСайте</th>\n",
       "      <th>НовыйСтатус</th>\n",
       "      <th>СуммаЗаказаНаСайте</th>\n",
       "      <th>СуммаДокумента</th>\n",
       "      <th>МетодДоставки</th>\n",
       "      <th>ФормаОплаты</th>\n",
       "      <th>Регион</th>\n",
       "      <th>Группа2</th>\n",
       "      <th>...</th>\n",
       "      <th>СуммаДоставки</th>\n",
       "      <th>НомерСтроки</th>\n",
       "      <th>КоличествоПроданоКлиенту</th>\n",
       "      <th>ДатаЗаказаНаСайте</th>\n",
       "      <th>Телефон_new</th>\n",
       "      <th>ЭлектроннаяПочта_new</th>\n",
       "      <th>Клиент</th>\n",
       "      <th>ID_SKU</th>\n",
       "      <th>ГородМагазина</th>\n",
       "      <th>МагазинЗаказа</th>\n",
       "    </tr>\n",
       "  </thead>\n",
       "  <tbody>\n",
       "    <tr>\n",
       "      <th>0</th>\n",
       "      <td>01.05.2017 0:03</td>\n",
       "      <td>03.05.2017 0:00</td>\n",
       "      <td>4513479_TR</td>\n",
       "      <td>Доставлен</td>\n",
       "      <td>761</td>\n",
       "      <td>761</td>\n",
       "      <td>Магазины</td>\n",
       "      <td>Безналичная</td>\n",
       "      <td>Москва</td>\n",
       "      <td>КРУПНОГАБАРИТНЫЙ ТОВАР</td>\n",
       "      <td>...</td>\n",
       "      <td>49</td>\n",
       "      <td>2</td>\n",
       "      <td>1</td>\n",
       "      <td>30.04.2017 0:00</td>\n",
       "      <td>55574954-50515053535277</td>\n",
       "      <td>107117_ku13@mail.ru</td>\n",
       "      <td>Марина</td>\n",
       "      <td>ID10020734553</td>\n",
       "      <td>0</td>\n",
       "      <td>NaN</td>\n",
       "    </tr>\n",
       "    <tr>\n",
       "      <th>1</th>\n",
       "      <td>01.05.2017 10:18</td>\n",
       "      <td>03.05.2017 0:00</td>\n",
       "      <td>4513492_TR</td>\n",
       "      <td>К отгрузке</td>\n",
       "      <td>1 878</td>\n",
       "      <td>1 878</td>\n",
       "      <td>Pick point</td>\n",
       "      <td>Безналичная</td>\n",
       "      <td>Москва</td>\n",
       "      <td>ТЕКСТИЛЬ, ТРИКОТАЖ</td>\n",
       "      <td>...</td>\n",
       "      <td>180</td>\n",
       "      <td>1</td>\n",
       "      <td>1</td>\n",
       "      <td>30.04.2017 0:00</td>\n",
       "      <td>55574851-50484949535070</td>\n",
       "      <td>121117_yu21@yandex.ru</td>\n",
       "      <td>Гость</td>\n",
       "      <td>IDL00035982755</td>\n",
       "      <td>0</td>\n",
       "      <td>NaN</td>\n",
       "    </tr>\n",
       "  </tbody>\n",
       "</table>\n",
       "<p>2 rows × 38 columns</p>\n",
       "</div>"
      ],
      "text/plain": [
       "               Дата     ДатаДоставки НомерЗаказаНаСайте НовыйСтатус  \\\n",
       "0   01.05.2017 0:03  03.05.2017 0:00         4513479_TR   Доставлен   \n",
       "1  01.05.2017 10:18  03.05.2017 0:00         4513492_TR  К отгрузке   \n",
       "\n",
       "  СуммаЗаказаНаСайте СуммаДокумента МетодДоставки  ФормаОплаты  Регион  \\\n",
       "0                761            761      Магазины  Безналичная  Москва   \n",
       "1              1 878          1 878    Pick point  Безналичная  Москва   \n",
       "\n",
       "                  Группа2  ... СуммаДоставки НомерСтроки  \\\n",
       "0  КРУПНОГАБАРИТНЫЙ ТОВАР  ...            49           2   \n",
       "1      ТЕКСТИЛЬ, ТРИКОТАЖ  ...           180           1   \n",
       "\n",
       "  КоличествоПроданоКлиенту ДатаЗаказаНаСайте              Телефон_new  \\\n",
       "0                        1   30.04.2017 0:00  55574954-50515053535277   \n",
       "1                        1   30.04.2017 0:00  55574851-50484949535070   \n",
       "\n",
       "    ЭлектроннаяПочта_new  Клиент          ID_SKU ГородМагазина МагазинЗаказа  \n",
       "0    107117_ku13@mail.ru  Марина   ID10020734553             0           NaN  \n",
       "1  121117_yu21@yandex.ru   Гость  IDL00035982755             0           NaN  \n",
       "\n",
       "[2 rows x 38 columns]"
      ]
     },
     "execution_count": 3,
     "metadata": {},
     "output_type": "execute_result"
    }
   ],
   "source": [
    "df_56.head(2)"
   ]
  },
  {
   "cell_type": "code",
   "execution_count": 4,
   "metadata": {},
   "outputs": [
    {
     "data": {
      "text/html": [
       "<div>\n",
       "<style scoped>\n",
       "    .dataframe tbody tr th:only-of-type {\n",
       "        vertical-align: middle;\n",
       "    }\n",
       "\n",
       "    .dataframe tbody tr th {\n",
       "        vertical-align: top;\n",
       "    }\n",
       "\n",
       "    .dataframe thead th {\n",
       "        text-align: right;\n",
       "    }\n",
       "</style>\n",
       "<table border=\"1\" class=\"dataframe\">\n",
       "  <thead>\n",
       "    <tr style=\"text-align: right;\">\n",
       "      <th></th>\n",
       "      <th>Дата</th>\n",
       "      <th>ДатаДоставки</th>\n",
       "      <th>НомерЗаказаНаСайте</th>\n",
       "      <th>НовыйСтатус</th>\n",
       "      <th>СуммаЗаказаНаСайте</th>\n",
       "      <th>СуммаДокумента</th>\n",
       "      <th>МетодДоставки</th>\n",
       "      <th>ФормаОплаты</th>\n",
       "      <th>Регион</th>\n",
       "      <th>Группа2</th>\n",
       "      <th>...</th>\n",
       "      <th>СуммаДоставки</th>\n",
       "      <th>НомерСтроки</th>\n",
       "      <th>КоличествоПроданоКлиенту</th>\n",
       "      <th>ДатаЗаказаНаСайте</th>\n",
       "      <th>Телефон_new</th>\n",
       "      <th>ЭлектроннаяПочта_new</th>\n",
       "      <th>Клиент</th>\n",
       "      <th>ID_SKU</th>\n",
       "      <th>ГородМагазина</th>\n",
       "      <th>МагазинЗаказа</th>\n",
       "    </tr>\n",
       "  </thead>\n",
       "  <tbody>\n",
       "    <tr>\n",
       "      <th>0</th>\n",
       "      <td>01.07.2017 0:00</td>\n",
       "      <td>06.07.2017 0:00</td>\n",
       "      <td>5031788_TR</td>\n",
       "      <td>Доставлен</td>\n",
       "      <td>1 634</td>\n",
       "      <td>1 634</td>\n",
       "      <td>Магазины</td>\n",
       "      <td>Безналичная</td>\n",
       "      <td>Москва</td>\n",
       "      <td>ТЕКСТИЛЬ, ТРИКОТАЖ</td>\n",
       "      <td>...</td>\n",
       "      <td>49</td>\n",
       "      <td>3</td>\n",
       "      <td>1</td>\n",
       "      <td>30.06.2017 0:00</td>\n",
       "      <td>55574948-52495050484877</td>\n",
       "      <td>116117_tu17@mail.ru</td>\n",
       "      <td>Татьяна</td>\n",
       "      <td>IDL00051334048</td>\n",
       "      <td>0</td>\n",
       "      <td>NaN</td>\n",
       "    </tr>\n",
       "    <tr>\n",
       "      <th>1</th>\n",
       "      <td>01.07.2017 0:00</td>\n",
       "      <td>06.07.2017 0:00</td>\n",
       "      <td>5031788_TR</td>\n",
       "      <td>Доставлен</td>\n",
       "      <td>1 634</td>\n",
       "      <td>1 634</td>\n",
       "      <td>Магазины</td>\n",
       "      <td>Безналичная</td>\n",
       "      <td>Москва</td>\n",
       "      <td>ТЕКСТИЛЬ, ТРИКОТАЖ</td>\n",
       "      <td>...</td>\n",
       "      <td>49</td>\n",
       "      <td>4</td>\n",
       "      <td>1</td>\n",
       "      <td>30.06.2017 0:00</td>\n",
       "      <td>55574948-52495050484877</td>\n",
       "      <td>116117_tu17@mail.ru</td>\n",
       "      <td>Татьяна</td>\n",
       "      <td>IDL00051367351</td>\n",
       "      <td>0</td>\n",
       "      <td>NaN</td>\n",
       "    </tr>\n",
       "  </tbody>\n",
       "</table>\n",
       "<p>2 rows × 38 columns</p>\n",
       "</div>"
      ],
      "text/plain": [
       "              Дата     ДатаДоставки НомерЗаказаНаСайте НовыйСтатус  \\\n",
       "0  01.07.2017 0:00  06.07.2017 0:00         5031788_TR   Доставлен   \n",
       "1  01.07.2017 0:00  06.07.2017 0:00         5031788_TR   Доставлен   \n",
       "\n",
       "  СуммаЗаказаНаСайте СуммаДокумента МетодДоставки  ФормаОплаты  Регион  \\\n",
       "0              1 634          1 634      Магазины  Безналичная  Москва   \n",
       "1              1 634          1 634      Магазины  Безналичная  Москва   \n",
       "\n",
       "              Группа2  ... СуммаДоставки НомерСтроки КоличествоПроданоКлиенту  \\\n",
       "0  ТЕКСТИЛЬ, ТРИКОТАЖ  ...            49           3                        1   \n",
       "1  ТЕКСТИЛЬ, ТРИКОТАЖ  ...            49           4                        1   \n",
       "\n",
       "  ДатаЗаказаНаСайте              Телефон_new ЭлектроннаяПочта_new   Клиент  \\\n",
       "0   30.06.2017 0:00  55574948-52495050484877  116117_tu17@mail.ru  Татьяна   \n",
       "1   30.06.2017 0:00  55574948-52495050484877  116117_tu17@mail.ru  Татьяна   \n",
       "\n",
       "           ID_SKU ГородМагазина МагазинЗаказа  \n",
       "0  IDL00051334048             0           NaN  \n",
       "1  IDL00051367351             0           NaN  \n",
       "\n",
       "[2 rows x 38 columns]"
      ]
     },
     "execution_count": 4,
     "metadata": {},
     "output_type": "execute_result"
    }
   ],
   "source": [
    "df_78.head(2)"
   ]
  },
  {
   "cell_type": "code",
   "execution_count": 16,
   "metadata": {},
   "outputs": [
    {
     "data": {
      "text/html": [
       "<div>\n",
       "<style scoped>\n",
       "    .dataframe tbody tr th:only-of-type {\n",
       "        vertical-align: middle;\n",
       "    }\n",
       "\n",
       "    .dataframe tbody tr th {\n",
       "        vertical-align: top;\n",
       "    }\n",
       "\n",
       "    .dataframe thead th {\n",
       "        text-align: right;\n",
       "    }\n",
       "</style>\n",
       "<table border=\"1\" class=\"dataframe\">\n",
       "  <thead>\n",
       "    <tr style=\"text-align: right;\">\n",
       "      <th></th>\n",
       "      <th>Дата</th>\n",
       "      <th>ДатаДоставки</th>\n",
       "      <th>НомерЗаказаНаСайте</th>\n",
       "      <th>НовыйСтатус</th>\n",
       "      <th>СуммаЗаказаНаСайте</th>\n",
       "      <th>СуммаДокумента</th>\n",
       "      <th>МетодДоставки</th>\n",
       "      <th>ФормаОплаты</th>\n",
       "      <th>Регион</th>\n",
       "      <th>Группа2</th>\n",
       "      <th>...</th>\n",
       "      <th>СуммаДоставки</th>\n",
       "      <th>НомерСтроки</th>\n",
       "      <th>КоличествоПроданоКлиенту</th>\n",
       "      <th>ДатаЗаказаНаСайте</th>\n",
       "      <th>Телефон_new</th>\n",
       "      <th>ЭлектроннаяПочта_new</th>\n",
       "      <th>Клиент</th>\n",
       "      <th>ID_SKU</th>\n",
       "      <th>ГородМагазина</th>\n",
       "      <th>МагазинЗаказа</th>\n",
       "    </tr>\n",
       "  </thead>\n",
       "  <tbody>\n",
       "  </tbody>\n",
       "</table>\n",
       "<p>0 rows × 38 columns</p>\n",
       "</div>"
      ],
      "text/plain": [
       "Empty DataFrame\n",
       "Columns: [Дата, ДатаДоставки, НомерЗаказаНаСайте, НовыйСтатус, СуммаЗаказаНаСайте, СуммаДокумента, МетодДоставки, ФормаОплаты, Регион, Группа2, Группа3, Группа4, Тип, Номенклатура, ТипТовара, Отменено, ПричинаОтмены, Количество, Цена, СуммаСтроки, ЦенаЗакупки, МесяцДатыЗаказа, ГодДатыЗаказа, ПВЗ_код, Статус, Гео, Маржа, СуммаУслуг, СуммаДоставки, НомерСтроки, КоличествоПроданоКлиенту, ДатаЗаказаНаСайте, Телефон_new, ЭлектроннаяПочта_new, Клиент, ID_SKU, ГородМагазина, МагазинЗаказа]\n",
       "Index: []\n",
       "\n",
       "[0 rows x 38 columns]"
      ]
     },
     "execution_count": 16,
     "metadata": {},
     "output_type": "execute_result"
    }
   ],
   "source": [
    "df_b = df[((df['НовыйСтатус'] == 'Доставлен') & (df['МетодДоставки'] != 'Магазины'))]\n",
    "df_b"
   ]
  },
  {
   "cell_type": "code",
   "execution_count": 18,
   "metadata": {},
   "outputs": [
    {
     "data": {
      "text/plain": [
       "(365624, 38)"
      ]
     },
     "execution_count": 18,
     "metadata": {},
     "output_type": "execute_result"
    }
   ],
   "source": [
    "df_b = df[((df['Статус'] == 'Доставлен') & (df['МетодДоставки'] != 'Магазины'))]\n",
    "df_b.shape"
   ]
  },
  {
   "cell_type": "markdown",
   "metadata": {},
   "source": [
    "### Объединение датасетов"
   ]
  },
  {
   "cell_type": "code",
   "execution_count": 5,
   "metadata": {},
   "outputs": [],
   "source": [
    "#df = pd.concat([df_56, df_78])\n",
    "df = pd.concat([df_56, df_78]).drop_duplicates()"
   ]
  },
  {
   "cell_type": "code",
   "execution_count": 6,
   "metadata": {},
   "outputs": [
    {
     "name": "stdout",
     "output_type": "stream",
     "text": [
      "(730558, 38)\n",
      "(797192, 38)\n",
      "(1523057, 38)\n"
     ]
    }
   ],
   "source": [
    "print(df_56.shape)\n",
    "print(df_78.shape)\n",
    "print(df.shape)\n",
    "#print(df_dd.shape)"
   ]
  },
  {
   "cell_type": "markdown",
   "metadata": {},
   "source": [
    "### Преобразуем данные в некоторых колонках, с которыми будем работать дальше"
   ]
  },
  {
   "cell_type": "code",
   "execution_count": 7,
   "metadata": {},
   "outputs": [],
   "source": [
    "# Убираем пробелы\n",
    "df['СуммаДокумента'] = df['СуммаДокумента'].replace(r'\\s+','',regex=True)\n",
    "df['Цена'] = df['Цена'].replace(r'\\s+','',regex=True)\n",
    "df['ЦенаЗакупки'] = df['ЦенаЗакупки'].replace(r'\\s+','',regex=True)\n",
    "\n",
    "# Запятые на точки\n",
    "df['СуммаДокумента'] = df['СуммаДокумента'].replace(',','.',regex=True)\n",
    "df['Цена'] = df['Цена'].replace(',','.',regex=True)\n",
    "df['ЦенаЗакупки'] = df['ЦенаЗакупки'].replace(',','.',regex=True)\n",
    "\n",
    "# From object to float\n",
    "df['СуммаДокумента'] = pd.to_numeric(df['СуммаДокумента'],errors = 'coerce')\n",
    "df['Цена'] = pd.to_numeric(df['Цена'],errors = 'coerce')\n",
    "df['ЦенаЗакупки'] = pd.to_numeric(df['ЦенаЗакупки'],errors = 'coerce')"
   ]
  },
  {
   "cell_type": "markdown",
   "metadata": {},
   "source": [
    "### Чистим данные"
   ]
  },
  {
   "cell_type": "code",
   "execution_count": 9,
   "metadata": {},
   "outputs": [],
   "source": [
    "df = df[(df['Количество'] > 0)] \n",
    "df = df[(df['Отменено'] != 'Да')]\n",
    "df = df[(df['СуммаЗаказаНаСайте'] != 0) | (df['СуммаДокумента'] != 0)]\n",
    "df = df[(df['КоличествоПроданоКлиенту'] > 0)]"
   ]
  },
  {
   "cell_type": "code",
   "execution_count": 10,
   "metadata": {},
   "outputs": [
    {
     "data": {
      "text/plain": [
       "(1157676, 38)"
      ]
     },
     "execution_count": 10,
     "metadata": {},
     "output_type": "execute_result"
    }
   ],
   "source": [
    "df.shape"
   ]
  },
  {
   "cell_type": "markdown",
   "metadata": {},
   "source": [
    "### Убираем пустные значения в столбце \"Регион\", заменяя их на значения из столбца \"Город магазина\""
   ]
  },
  {
   "cell_type": "code",
   "execution_count": 11,
   "metadata": {},
   "outputs": [],
   "source": [
    "df['Регион'] = df['Регион'].fillna(df['ГородМагазина'])"
   ]
  },
  {
   "cell_type": "code",
   "execution_count": 12,
   "metadata": {},
   "outputs": [],
   "source": [
    "# Удаляем товары без региона\n",
    "df = df[(df['Регион'] != '0')]"
   ]
  },
  {
   "cell_type": "code",
   "execution_count": 13,
   "metadata": {},
   "outputs": [],
   "source": [
    "df.loc[df['ГородМагазина'] == '0', 'ГородМагазина'] = 'ИнтернетДоставка'"
   ]
  },
  {
   "cell_type": "markdown",
   "metadata": {},
   "source": [
    "### Доставка не может являться полноценным заказом: удалить все строки с \"Доставка\" в столбце \"Номенклатура\" и соответственно в столбцах \"Группа2\""
   ]
  },
  {
   "cell_type": "code",
   "execution_count": 14,
   "metadata": {},
   "outputs": [],
   "source": [
    "df_delivary = df[(df['Номенклатура'] == 'Доставка') | (df['Группа2'] == 'Доставка')]"
   ]
  },
  {
   "cell_type": "code",
   "execution_count": 15,
   "metadata": {},
   "outputs": [],
   "source": [
    "df = df[(df['Номенклатура'] != 'Доставка')]\n",
    "df = df[(df['Группа2'] != 'Доставка')]"
   ]
  },
  {
   "cell_type": "markdown",
   "metadata": {},
   "source": [
    "### Проанализируем данные"
   ]
  },
  {
   "cell_type": "code",
   "execution_count": 16,
   "metadata": {},
   "outputs": [
    {
     "data": {
      "image/png": "[encoded data removed]",
      "text/plain": [
       "<Figure size 504x360 with 2 Axes>"
      ]
     },
     "metadata": {
      "needs_background": "light"
     },
     "output_type": "display_data"
    }
   ],
   "source": [
    "fig = plt.figure(figsize = (7, 5))\n",
    "sns.heatmap(df.corr(), annot=True, cmap = 'YlGnBu');"
   ]
  },
  {
   "cell_type": "code",
   "execution_count": 17,
   "metadata": {},
   "outputs": [
    {
     "data": {
      "text/html": [
       "<div>\n",
       "<style scoped>\n",
       "    .dataframe tbody tr th:only-of-type {\n",
       "        vertical-align: middle;\n",
       "    }\n",
       "\n",
       "    .dataframe tbody tr th {\n",
       "        vertical-align: top;\n",
       "    }\n",
       "\n",
       "    .dataframe thead th {\n",
       "        text-align: right;\n",
       "    }\n",
       "</style>\n",
       "<table border=\"1\" class=\"dataframe\">\n",
       "  <thead>\n",
       "    <tr style=\"text-align: right;\">\n",
       "      <th></th>\n",
       "      <th>Unique</th>\n",
       "      <th>Percent unique</th>\n",
       "      <th>Zeros</th>\n",
       "      <th>Percent zeros</th>\n",
       "      <th>NaNs</th>\n",
       "      <th>Percent NaNs</th>\n",
       "    </tr>\n",
       "  </thead>\n",
       "  <tbody>\n",
       "    <tr>\n",
       "      <th>Дата</th>\n",
       "      <td>43081.0</td>\n",
       "      <td>4.742922</td>\n",
       "      <td>0.0</td>\n",
       "      <td>0.00000</td>\n",
       "      <td>0.0</td>\n",
       "      <td>0.000000</td>\n",
       "    </tr>\n",
       "    <tr>\n",
       "      <th>ДатаДоставки</th>\n",
       "      <td>169.0</td>\n",
       "      <td>0.018606</td>\n",
       "      <td>0.0</td>\n",
       "      <td>0.00000</td>\n",
       "      <td>0.0</td>\n",
       "      <td>0.000000</td>\n",
       "    </tr>\n",
       "    <tr>\n",
       "      <th>НомерЗаказаНаСайте</th>\n",
       "      <td>253004.0</td>\n",
       "      <td>27.853999</td>\n",
       "      <td>0.0</td>\n",
       "      <td>0.00000</td>\n",
       "      <td>0.0</td>\n",
       "      <td>0.000000</td>\n",
       "    </tr>\n",
       "    <tr>\n",
       "      <th>НовыйСтатус</th>\n",
       "      <td>14.0</td>\n",
       "      <td>0.001541</td>\n",
       "      <td>0.0</td>\n",
       "      <td>0.00000</td>\n",
       "      <td>0.0</td>\n",
       "      <td>0.000000</td>\n",
       "    </tr>\n",
       "    <tr>\n",
       "      <th>СуммаЗаказаНаСайте</th>\n",
       "      <td>17263.0</td>\n",
       "      <td>1.900537</td>\n",
       "      <td>0.0</td>\n",
       "      <td>0.00000</td>\n",
       "      <td>0.0</td>\n",
       "      <td>0.000000</td>\n",
       "    </tr>\n",
       "    <tr>\n",
       "      <th>СуммаДокумента</th>\n",
       "      <td>18276.0</td>\n",
       "      <td>2.012062</td>\n",
       "      <td>1.0</td>\n",
       "      <td>0.00011</td>\n",
       "      <td>0.0</td>\n",
       "      <td>0.000000</td>\n",
       "    </tr>\n",
       "    <tr>\n",
       "      <th>МетодДоставки</th>\n",
       "      <td>6.0</td>\n",
       "      <td>0.000661</td>\n",
       "      <td>0.0</td>\n",
       "      <td>0.00000</td>\n",
       "      <td>0.0</td>\n",
       "      <td>0.000000</td>\n",
       "    </tr>\n",
       "    <tr>\n",
       "      <th>ФормаОплаты</th>\n",
       "      <td>2.0</td>\n",
       "      <td>0.000220</td>\n",
       "      <td>0.0</td>\n",
       "      <td>0.00000</td>\n",
       "      <td>0.0</td>\n",
       "      <td>0.000000</td>\n",
       "    </tr>\n",
       "    <tr>\n",
       "      <th>Регион</th>\n",
       "      <td>599.0</td>\n",
       "      <td>0.065946</td>\n",
       "      <td>0.0</td>\n",
       "      <td>0.00000</td>\n",
       "      <td>0.0</td>\n",
       "      <td>0.000000</td>\n",
       "    </tr>\n",
       "    <tr>\n",
       "      <th>Группа2</th>\n",
       "      <td>13.0</td>\n",
       "      <td>0.001431</td>\n",
       "      <td>0.0</td>\n",
       "      <td>0.00000</td>\n",
       "      <td>0.0</td>\n",
       "      <td>0.000000</td>\n",
       "    </tr>\n",
       "    <tr>\n",
       "      <th>Группа3</th>\n",
       "      <td>97.0</td>\n",
       "      <td>0.010679</td>\n",
       "      <td>0.0</td>\n",
       "      <td>0.00000</td>\n",
       "      <td>0.0</td>\n",
       "      <td>0.000000</td>\n",
       "    </tr>\n",
       "    <tr>\n",
       "      <th>Группа4</th>\n",
       "      <td>433.0</td>\n",
       "      <td>0.047670</td>\n",
       "      <td>0.0</td>\n",
       "      <td>0.00000</td>\n",
       "      <td>41023.0</td>\n",
       "      <td>4.516350</td>\n",
       "    </tr>\n",
       "    <tr>\n",
       "      <th>Тип</th>\n",
       "      <td>5.0</td>\n",
       "      <td>0.000550</td>\n",
       "      <td>0.0</td>\n",
       "      <td>0.00000</td>\n",
       "      <td>0.0</td>\n",
       "      <td>0.000000</td>\n",
       "    </tr>\n",
       "    <tr>\n",
       "      <th>Номенклатура</th>\n",
       "      <td>95174.0</td>\n",
       "      <td>10.478002</td>\n",
       "      <td>0.0</td>\n",
       "      <td>0.00000</td>\n",
       "      <td>0.0</td>\n",
       "      <td>0.000000</td>\n",
       "    </tr>\n",
       "    <tr>\n",
       "      <th>ТипТовара</th>\n",
       "      <td>2.0</td>\n",
       "      <td>0.000220</td>\n",
       "      <td>0.0</td>\n",
       "      <td>0.00000</td>\n",
       "      <td>0.0</td>\n",
       "      <td>0.000000</td>\n",
       "    </tr>\n",
       "    <tr>\n",
       "      <th>Отменено</th>\n",
       "      <td>1.0</td>\n",
       "      <td>0.000110</td>\n",
       "      <td>0.0</td>\n",
       "      <td>0.00000</td>\n",
       "      <td>0.0</td>\n",
       "      <td>0.000000</td>\n",
       "    </tr>\n",
       "    <tr>\n",
       "      <th>ПричинаОтмены</th>\n",
       "      <td>0.0</td>\n",
       "      <td>0.000000</td>\n",
       "      <td>0.0</td>\n",
       "      <td>0.00000</td>\n",
       "      <td>908322.0</td>\n",
       "      <td>100.000000</td>\n",
       "    </tr>\n",
       "    <tr>\n",
       "      <th>Количество</th>\n",
       "      <td>90.0</td>\n",
       "      <td>0.009908</td>\n",
       "      <td>0.0</td>\n",
       "      <td>0.00000</td>\n",
       "      <td>0.0</td>\n",
       "      <td>0.000000</td>\n",
       "    </tr>\n",
       "    <tr>\n",
       "      <th>Цена</th>\n",
       "      <td>16898.0</td>\n",
       "      <td>1.860353</td>\n",
       "      <td>0.0</td>\n",
       "      <td>0.00000</td>\n",
       "      <td>0.0</td>\n",
       "      <td>0.000000</td>\n",
       "    </tr>\n",
       "    <tr>\n",
       "      <th>СуммаСтроки</th>\n",
       "      <td>18149.0</td>\n",
       "      <td>1.998080</td>\n",
       "      <td>0.0</td>\n",
       "      <td>0.00000</td>\n",
       "      <td>0.0</td>\n",
       "      <td>0.000000</td>\n",
       "    </tr>\n",
       "    <tr>\n",
       "      <th>ЦенаЗакупки</th>\n",
       "      <td>30893.0</td>\n",
       "      <td>3.401107</td>\n",
       "      <td>0.0</td>\n",
       "      <td>0.00000</td>\n",
       "      <td>2658.0</td>\n",
       "      <td>0.292628</td>\n",
       "    </tr>\n",
       "    <tr>\n",
       "      <th>МесяцДатыЗаказа</th>\n",
       "      <td>4.0</td>\n",
       "      <td>0.000440</td>\n",
       "      <td>0.0</td>\n",
       "      <td>0.00000</td>\n",
       "      <td>0.0</td>\n",
       "      <td>0.000000</td>\n",
       "    </tr>\n",
       "    <tr>\n",
       "      <th>ГодДатыЗаказа</th>\n",
       "      <td>1.0</td>\n",
       "      <td>0.000110</td>\n",
       "      <td>0.0</td>\n",
       "      <td>0.00000</td>\n",
       "      <td>0.0</td>\n",
       "      <td>0.000000</td>\n",
       "    </tr>\n",
       "    <tr>\n",
       "      <th>ПВЗ_код</th>\n",
       "      <td>5.0</td>\n",
       "      <td>0.000550</td>\n",
       "      <td>0.0</td>\n",
       "      <td>0.00000</td>\n",
       "      <td>250691.0</td>\n",
       "      <td>27.599354</td>\n",
       "    </tr>\n",
       "    <tr>\n",
       "      <th>Статус</th>\n",
       "      <td>5.0</td>\n",
       "      <td>0.000550</td>\n",
       "      <td>0.0</td>\n",
       "      <td>0.00000</td>\n",
       "      <td>0.0</td>\n",
       "      <td>0.000000</td>\n",
       "    </tr>\n",
       "    <tr>\n",
       "      <th>Гео</th>\n",
       "      <td>3.0</td>\n",
       "      <td>0.000330</td>\n",
       "      <td>0.0</td>\n",
       "      <td>0.00000</td>\n",
       "      <td>0.0</td>\n",
       "      <td>0.000000</td>\n",
       "    </tr>\n",
       "    <tr>\n",
       "      <th>Маржа</th>\n",
       "      <td>52014.0</td>\n",
       "      <td>5.726383</td>\n",
       "      <td>0.0</td>\n",
       "      <td>0.00000</td>\n",
       "      <td>2658.0</td>\n",
       "      <td>0.292628</td>\n",
       "    </tr>\n",
       "    <tr>\n",
       "      <th>СуммаУслуг</th>\n",
       "      <td>145.0</td>\n",
       "      <td>0.015964</td>\n",
       "      <td>0.0</td>\n",
       "      <td>0.00000</td>\n",
       "      <td>0.0</td>\n",
       "      <td>0.000000</td>\n",
       "    </tr>\n",
       "    <tr>\n",
       "      <th>СуммаДоставки</th>\n",
       "      <td>144.0</td>\n",
       "      <td>0.015853</td>\n",
       "      <td>0.0</td>\n",
       "      <td>0.00000</td>\n",
       "      <td>0.0</td>\n",
       "      <td>0.000000</td>\n",
       "    </tr>\n",
       "    <tr>\n",
       "      <th>НомерСтроки</th>\n",
       "      <td>137.0</td>\n",
       "      <td>0.015083</td>\n",
       "      <td>0.0</td>\n",
       "      <td>0.00000</td>\n",
       "      <td>0.0</td>\n",
       "      <td>0.000000</td>\n",
       "    </tr>\n",
       "    <tr>\n",
       "      <th>КоличествоПроданоКлиенту</th>\n",
       "      <td>90.0</td>\n",
       "      <td>0.009908</td>\n",
       "      <td>0.0</td>\n",
       "      <td>0.00000</td>\n",
       "      <td>0.0</td>\n",
       "      <td>0.000000</td>\n",
       "    </tr>\n",
       "    <tr>\n",
       "      <th>ДатаЗаказаНаСайте</th>\n",
       "      <td>172.0</td>\n",
       "      <td>0.018936</td>\n",
       "      <td>0.0</td>\n",
       "      <td>0.00000</td>\n",
       "      <td>0.0</td>\n",
       "      <td>0.000000</td>\n",
       "    </tr>\n",
       "    <tr>\n",
       "      <th>Телефон_new</th>\n",
       "      <td>163146.0</td>\n",
       "      <td>17.961252</td>\n",
       "      <td>0.0</td>\n",
       "      <td>0.00000</td>\n",
       "      <td>0.0</td>\n",
       "      <td>0.000000</td>\n",
       "    </tr>\n",
       "    <tr>\n",
       "      <th>ЭлектроннаяПочта_new</th>\n",
       "      <td>7524.0</td>\n",
       "      <td>0.828341</td>\n",
       "      <td>0.0</td>\n",
       "      <td>0.00000</td>\n",
       "      <td>14349.0</td>\n",
       "      <td>1.579726</td>\n",
       "    </tr>\n",
       "    <tr>\n",
       "      <th>Клиент</th>\n",
       "      <td>7099.0</td>\n",
       "      <td>0.781551</td>\n",
       "      <td>0.0</td>\n",
       "      <td>0.00000</td>\n",
       "      <td>277.0</td>\n",
       "      <td>0.030496</td>\n",
       "    </tr>\n",
       "    <tr>\n",
       "      <th>ID_SKU</th>\n",
       "      <td>113382.0</td>\n",
       "      <td>12.482578</td>\n",
       "      <td>0.0</td>\n",
       "      <td>0.00000</td>\n",
       "      <td>0.0</td>\n",
       "      <td>0.000000</td>\n",
       "    </tr>\n",
       "    <tr>\n",
       "      <th>ГородМагазина</th>\n",
       "      <td>64.0</td>\n",
       "      <td>0.007046</td>\n",
       "      <td>0.0</td>\n",
       "      <td>0.00000</td>\n",
       "      <td>0.0</td>\n",
       "      <td>0.000000</td>\n",
       "    </tr>\n",
       "    <tr>\n",
       "      <th>МагазинЗаказа</th>\n",
       "      <td>88.0</td>\n",
       "      <td>0.009688</td>\n",
       "      <td>0.0</td>\n",
       "      <td>0.00000</td>\n",
       "      <td>902075.0</td>\n",
       "      <td>99.312248</td>\n",
       "    </tr>\n",
       "  </tbody>\n",
       "</table>\n",
       "</div>"
      ],
      "text/plain": [
       "                            Unique  Percent unique  Zeros  Percent zeros  \\\n",
       "Дата                       43081.0        4.742922    0.0        0.00000   \n",
       "ДатаДоставки                 169.0        0.018606    0.0        0.00000   \n",
       "НомерЗаказаНаСайте        253004.0       27.853999    0.0        0.00000   \n",
       "НовыйСтатус                   14.0        0.001541    0.0        0.00000   \n",
       "СуммаЗаказаНаСайте         17263.0        1.900537    0.0        0.00000   \n",
       "СуммаДокумента             18276.0        2.012062    1.0        0.00011   \n",
       "МетодДоставки                  6.0        0.000661    0.0        0.00000   \n",
       "ФормаОплаты                    2.0        0.000220    0.0        0.00000   \n",
       "Регион                       599.0        0.065946    0.0        0.00000   \n",
       "Группа2                       13.0        0.001431    0.0        0.00000   \n",
       "Группа3                       97.0        0.010679    0.0        0.00000   \n",
       "Группа4                      433.0        0.047670    0.0        0.00000   \n",
       "Тип                            5.0        0.000550    0.0        0.00000   \n",
       "Номенклатура               95174.0       10.478002    0.0        0.00000   \n",
       "ТипТовара                      2.0        0.000220    0.0        0.00000   \n",
       "Отменено                       1.0        0.000110    0.0        0.00000   \n",
       "ПричинаОтмены                  0.0        0.000000    0.0        0.00000   \n",
       "Количество                    90.0        0.009908    0.0        0.00000   \n",
       "Цена                       16898.0        1.860353    0.0        0.00000   \n",
       "СуммаСтроки                18149.0        1.998080    0.0        0.00000   \n",
       "ЦенаЗакупки                30893.0        3.401107    0.0        0.00000   \n",
       "МесяцДатыЗаказа                4.0        0.000440    0.0        0.00000   \n",
       "ГодДатыЗаказа                  1.0        0.000110    0.0        0.00000   \n",
       "ПВЗ_код                        5.0        0.000550    0.0        0.00000   \n",
       "Статус                         5.0        0.000550    0.0        0.00000   \n",
       "Гео                            3.0        0.000330    0.0        0.00000   \n",
       "Маржа                      52014.0        5.726383    0.0        0.00000   \n",
       "СуммаУслуг                   145.0        0.015964    0.0        0.00000   \n",
       "СуммаДоставки                144.0        0.015853    0.0        0.00000   \n",
       "НомерСтроки                  137.0        0.015083    0.0        0.00000   \n",
       "КоличествоПроданоКлиенту      90.0        0.009908    0.0        0.00000   \n",
       "ДатаЗаказаНаСайте            172.0        0.018936    0.0        0.00000   \n",
       "Телефон_new               163146.0       17.961252    0.0        0.00000   \n",
       "ЭлектроннаяПочта_new        7524.0        0.828341    0.0        0.00000   \n",
       "Клиент                      7099.0        0.781551    0.0        0.00000   \n",
       "ID_SKU                    113382.0       12.482578    0.0        0.00000   \n",
       "ГородМагазина                 64.0        0.007046    0.0        0.00000   \n",
       "МагазинЗаказа                 88.0        0.009688    0.0        0.00000   \n",
       "\n",
       "                              NaNs  Percent NaNs  \n",
       "Дата                           0.0      0.000000  \n",
       "ДатаДоставки                   0.0      0.000000  \n",
       "НомерЗаказаНаСайте             0.0      0.000000  \n",
       "НовыйСтатус                    0.0      0.000000  \n",
       "СуммаЗаказаНаСайте             0.0      0.000000  \n",
       "СуммаДокумента                 0.0      0.000000  \n",
       "МетодДоставки                  0.0      0.000000  \n",
       "ФормаОплаты                    0.0      0.000000  \n",
       "Регион                         0.0      0.000000  \n",
       "Группа2                        0.0      0.000000  \n",
       "Группа3                        0.0      0.000000  \n",
       "Группа4                    41023.0      4.516350  \n",
       "Тип                            0.0      0.000000  \n",
       "Номенклатура                   0.0      0.000000  \n",
       "ТипТовара                      0.0      0.000000  \n",
       "Отменено                       0.0      0.000000  \n",
       "ПричинаОтмены             908322.0    100.000000  \n",
       "Количество                     0.0      0.000000  \n",
       "Цена                           0.0      0.000000  \n",
       "СуммаСтроки                    0.0      0.000000  \n",
       "ЦенаЗакупки                 2658.0      0.292628  \n",
       "МесяцДатыЗаказа                0.0      0.000000  \n",
       "ГодДатыЗаказа                  0.0      0.000000  \n",
       "ПВЗ_код                   250691.0     27.599354  \n",
       "Статус                         0.0      0.000000  \n",
       "Гео                            0.0      0.000000  \n",
       "Маржа                       2658.0      0.292628  \n",
       "СуммаУслуг                     0.0      0.000000  \n",
       "СуммаДоставки                  0.0      0.000000  \n",
       "НомерСтроки                    0.0      0.000000  \n",
       "КоличествоПроданоКлиенту       0.0      0.000000  \n",
       "ДатаЗаказаНаСайте              0.0      0.000000  \n",
       "Телефон_new                    0.0      0.000000  \n",
       "ЭлектроннаяПочта_new       14349.0      1.579726  \n",
       "Клиент                       277.0      0.030496  \n",
       "ID_SKU                         0.0      0.000000  \n",
       "ГородМагазина                  0.0      0.000000  \n",
       "МагазинЗаказа             902075.0     99.312248  "
      ]
     },
     "execution_count": 17,
     "metadata": {},
     "output_type": "execute_result"
    }
   ],
   "source": [
    "mass = df.agg([\"nunique\",\n",
    "               (lambda x: x.nunique() / len(x) * 100),\n",
    "               (lambda x: x.isin([0]).sum()), \n",
    "               (lambda x: x.isin([0]).sum() / len(x) * 100),\n",
    "               (lambda x: x.isna().sum()), \n",
    "               (lambda x: x.isna().sum() / len(x) * 100),]).transpose()\n",
    "\n",
    "mass.columns = [\"Unique\", \"Percent unique\", \"Zeros\", \"Percent zeros\", \"NaNs\", \"Percent NaNs\",] \n",
    "mass "
   ]
  },
  {
   "cell_type": "markdown",
   "metadata": {},
   "source": [
    "### Создадим новые столбцы с проверкой данных (сумм)"
   ]
  },
  {
   "cell_type": "code",
   "execution_count": 18,
   "metadata": {},
   "outputs": [],
   "source": [
    "# СуммаЗаказаНаСайте = СуммаДокумента\n",
    "df['Нов_СуммаЗаказаНаСайте'] = df['СуммаДокумента']\n",
    "\n",
    "# СуммаСтроки = Цена * Количество\n",
    "df['Нов_СуммаСтроки'] = df['Цена'] * df['Количество']\n",
    "\n",
    "# Маржа = Нов_СуммаСтроки - ЦенаЗакупки\n",
    "df['Нов_Маржа'] = df['Нов_СуммаСтроки'] - df['ЦенаЗакупки']"
   ]
  },
  {
   "cell_type": "markdown",
   "metadata": {},
   "source": [
    "### Сохраним таблицу размещенных заказов."
   ]
  },
  {
   "cell_type": "code",
   "execution_count": 19,
   "metadata": {},
   "outputs": [],
   "source": [
    "df.to_csv('for_tables_filtered_data_Размещенные.csv', index=False, sep=';', encoding='utf-8-sig')"
   ]
  },
  {
   "cell_type": "markdown",
   "metadata": {},
   "source": [
    "### One-hot-encoding"
   ]
  },
  {
   "cell_type": "code",
   "execution_count": 2,
   "metadata": {},
   "outputs": [],
   "source": [
    "df = pd.read_csv('for_tables_filtered_data_Размещенные.csv', sep=';')"
   ]
  },
  {
   "cell_type": "code",
   "execution_count": 3,
   "metadata": {},
   "outputs": [],
   "source": [
    "# Только выкупленные товары\n",
    "df = df[(df['НовыйСтатус'] == 'Доставлен')]\n",
    "\n",
    "# Телефон не '0'\n",
    "df = df[(df['Телефон_new'] != '0')]\n",
    "\n",
    "# Nan заменим на не сущесвующее значение, чтобы потом удалить все строки не с этим значением\n",
    "df['ПричинаОтмены'] = df['ПричинаОтмены'].fillna(999999); \n",
    "df = df[(df['ПричинаОтмены'] == 999999)] \n",
    "\n",
    "\n",
    "df = df.dropna(subset = ['Группа2'])\n",
    "df = df.dropna(subset = ['Группа3'])\n",
    "df = df.dropna(subset = ['МетодДоставки'])\n",
    "df = df.dropna(subset = ['ФормаОплаты'])"
   ]
  },
  {
   "cell_type": "code",
   "execution_count": 4,
   "metadata": {},
   "outputs": [
    {
     "data": {
      "text/plain": [
       "(509067, 45)"
      ]
     },
     "execution_count": 4,
     "metadata": {},
     "output_type": "execute_result"
    }
   ],
   "source": [
    "df.shape"
   ]
  },
  {
   "cell_type": "code",
   "execution_count": 5,
   "metadata": {},
   "outputs": [],
   "source": [
    "phones_buyed = pd.read_csv('pivot_table_Phone_new_buyed.csv', sep=';') # 112595 rows × 11 columns\n",
    "phones_all = pd.read_csv('pivot_table_Phone_new_all.csv', sep=';') # 163146 rows × 11 columns"
   ]
  },
  {
   "cell_type": "code",
   "execution_count": 6,
   "metadata": {},
   "outputs": [],
   "source": [
    "# Телефон не '0'\n",
    "phones_buyed = phones_buyed[(phones_buyed['Телефон_new'] != '0')]\n",
    "phones_all = phones_all[(phones_all['Телефон_new'] != '0')]"
   ]
  },
  {
   "cell_type": "markdown",
   "metadata": {},
   "source": [
    "phones_buyed.merge(phones_all, ...)\n",
    "\n",
    "Сначала phones_buyed (выкупленные), потом phones_all (все / оформленные)\n",
    "\n",
    "Выручка_x, ... (выкупленные)\n",
    "\n",
    "Выручка_y, ... (все / оформленные)"
   ]
  },
  {
   "cell_type": "code",
   "execution_count": 7,
   "metadata": {},
   "outputs": [],
   "source": [
    "vitrina = (phones_buyed.merge(phones_all, on = ['Телефон_new'], how='inner')) # 112595 rows × 21 columns"
   ]
  },
  {
   "cell_type": "code",
   "execution_count": 8,
   "metadata": {},
   "outputs": [],
   "source": [
    "vitrina.columns = ['Телефон_new', 'Выручка_buyed', 'Абсолютная маржа_buyed', 'Маржа_buyed',\n",
    "       'Средняя маржа_buyed', 'Средний чек_buyed', 'Кол-во чеков_buyed',\n",
    "       'Кол-во товаров_buyed', 'Среднее кол-во товаров в  чеке_buyed',\n",
    "       'Кол-во уникальных клиентов_buyed', 'Ценность клиента_buyed', 'Выручка_all',\n",
    "       'Абсолютная маржа_all', 'Маржа_all', 'Средняя маржа_all', 'Средний чек_all',\n",
    "       'Кол-во чеков_all', 'Кол-во товаров_all',\n",
    "       'Среднее кол-во товаров в  чеке_all', 'Кол-во уникальных клиентов_all',\n",
    "       'Ценность клиента_all']"
   ]
  },
  {
   "cell_type": "code",
   "execution_count": 9,
   "metadata": {},
   "outputs": [],
   "source": [
    "# Витрина с основными показателями с выкупленными и размещенными товарами\n",
    "vitrina.to_csv('vitrina_only_general_info.csv', index=False, sep=';') "
   ]
  },
  {
   "cell_type": "code",
   "execution_count": 10,
   "metadata": {},
   "outputs": [],
   "source": [
    "# sum the number of the items within a group \n",
    "\n",
    "def pr(x, tag): \n",
    "    return (np.array(x).reshape((-1)) == tag).sum()"
   ]
  },
  {
   "cell_type": "markdown",
   "metadata": {},
   "source": [
    "### Группа2"
   ]
  },
  {
   "cell_type": "code",
   "execution_count": 11,
   "metadata": {},
   "outputs": [
    {
     "data": {
      "text/plain": [
       "array(['КРУПНОГАБАРИТНЫЙ ТОВАР', 'ТЕКСТИЛЬ, ТРИКОТАЖ', 'ОБУВЬ',\n",
       "       'КАНЦТОВАРЫ, КНИГИ, ДИСКИ', 'ТОВАРЫ ДЛЯ КОРМЛЕНИЯ', 'ИГРУШКИ',\n",
       "       'КОСМЕТИКА/ГИГИЕНА', 'СОПУТСТВУЮЩИЕ ТОВАРЫ', 'ЖЕНСКИЕ ШТУЧКИ',\n",
       "       'ПОДГУЗНИКИ', 'ДЕТСКОЕ ПИТАНИЕ', 'ТЕХНИКА И ТОВАРЫ ДЛЯ ДОМА',\n",
       "       'ТОВАРЫ ДЛЯ ЖИВОТНЫХ'], dtype=object)"
      ]
     },
     "execution_count": 11,
     "metadata": {},
     "output_type": "execute_result"
    }
   ],
   "source": [
    "df['Группа2'].unique()"
   ]
  },
  {
   "cell_type": "code",
   "execution_count": 12,
   "metadata": {},
   "outputs": [
    {
     "data": {
      "text/plain": [
       "13"
      ]
     },
     "execution_count": 12,
     "metadata": {},
     "output_type": "execute_result"
    }
   ],
   "source": [
    "len(df['Группа2'].unique())"
   ]
  },
  {
   "cell_type": "code",
   "execution_count": 13,
   "metadata": {},
   "outputs": [
    {
     "name": "stderr",
     "output_type": "stream",
     "text": [
      "/Library/Frameworks/Python.framework/Versions/3.8/lib/python3.8/site-packages/pandas/core/groupby/generic.py:1455: FutureWarning: using a dict with renaming is deprecated and will be removed\n",
      "in a future version.\n",
      "\n",
      "For column-specific groupby renaming, use named aggregation\n",
      "\n",
      "    >>> df.groupby(...).agg(name=('column', aggfunc))\n",
      "\n",
      "  return super().aggregate(arg, *args, **kwargs)\n"
     ]
    }
   ],
   "source": [
    "items_Group2 = df.groupby(['Телефон_new']).agg({\n",
    "    'Группа2': { \n",
    "        'КРУПНОГАБАРИТНЫЙ ТОВАР': lambda x: pr(x, 'КРУПНОГАБАРИТНЫЙ ТОВАР'), \n",
    "        'ТЕКСТИЛЬ, ТРИКОТАЖ': lambda x: pr(x, 'ТЕКСТИЛЬ, ТРИКОТАЖ'), \n",
    "        'ОБУВЬ': lambda x: pr(x, 'ОБУВЬ'), \n",
    "        'КАНЦТОВАРЫ, КНИГИ, ДИСКИ': lambda x: pr(x, 'КАНЦТОВАРЫ, КНИГИ, ДИСКИ'), \n",
    "        'ТОВАРЫ ДЛЯ КОРМЛЕНИЯ': lambda x: pr(x, 'ТОВАРЫ ДЛЯ КОРМЛЕНИЯ'), \n",
    "        'ИГРУШКИ': lambda x: pr(x, 'ИГРУШКИ'), \n",
    "        'КОСМЕТИКА/ГИГИЕНА': lambda x: pr(x, 'КОСМЕТИКА/ГИГИЕНА'), \n",
    "        'СОПУТСТВУЮЩИЕ ТОВАРЫ': lambda x: pr(x, 'СОПУТСТВУЮЩИЕ ТОВАРЫ'), \n",
    "        'ЖЕНСКИЕ ШТУЧКИ': lambda x: pr(x, 'ЖЕНСКИЕ ШТУЧКИ'), \n",
    "        'ПОДГУЗНИКИ': lambda x: pr(x, 'ПОДГУЗНИКИ'), \n",
    "        'ДЕТСКОЕ ПИТАНИЕ': lambda x: pr(x, 'ИДЕТСКОЕ ПИТАНИЕ'), \n",
    "        'ТЕХНИКА И ТОВАРЫ ДЛЯ ДОМА': lambda x: pr(x, 'ТЕХНИКА И ТОВАРЫ ДЛЯ ДОМА'), \n",
    "        'ТОВАРЫ ДЛЯ ЖИВОТНЫХ': lambda x: pr(x, 'ТОВАРЫ ДЛЯ ЖИВОТНЫХ'),\n",
    "    } \n",
    "}) \n",
    "\n",
    "items_Group2.columns = items_Group2.columns.get_level_values(1) \n",
    "items_Group2 = items_Group2.groupby(level = 0).agg('sum');"
   ]
  },
  {
   "cell_type": "code",
   "execution_count": 14,
   "metadata": {},
   "outputs": [
    {
     "data": {
      "text/plain": [
       "(112594, 13)"
      ]
     },
     "execution_count": 14,
     "metadata": {},
     "output_type": "execute_result"
    }
   ],
   "source": [
    "items_Group2.shape"
   ]
  },
  {
   "cell_type": "code",
   "execution_count": 96,
   "metadata": {},
   "outputs": [],
   "source": [
    "items_Group2.to_csv('items_Group2.csv', index=False, sep=';') "
   ]
  },
  {
   "cell_type": "markdown",
   "metadata": {},
   "source": [
    "### МетодДоставки НЕТ"
   ]
  },
  {
   "cell_type": "code",
   "execution_count": 15,
   "metadata": {},
   "outputs": [
    {
     "data": {
      "text/plain": [
       "array(['Магазины'], dtype=object)"
      ]
     },
     "execution_count": 15,
     "metadata": {},
     "output_type": "execute_result"
    }
   ],
   "source": [
    "df['МетодДоставки'].unique()"
   ]
  },
  {
   "cell_type": "code",
   "execution_count": 42,
   "metadata": {},
   "outputs": [
    {
     "data": {
      "text/plain": [
       "1"
      ]
     },
     "execution_count": 42,
     "metadata": {},
     "output_type": "execute_result"
    }
   ],
   "source": [
    "len(df['МетодДоставки'].unique())"
   ]
  },
  {
   "cell_type": "code",
   "execution_count": null,
   "metadata": {},
   "outputs": [],
   "source": [
    "items_delivery = df.groupby(['Телефон_new']).agg({\n",
    "    'МетодДоставки': { \n",
    "        'Магазины': lambda x: pr(x, 'Магазины'),\n",
    "    } \n",
    "}) \n",
    "\n",
    "items_delivery.columns = items_delivery.columns.get_level_values(1) \n",
    "items_delivery = items_delivery.groupby(level = 0).agg('sum') "
   ]
  },
  {
   "cell_type": "markdown",
   "metadata": {},
   "source": [
    "### ФормаОплаты НЕТ"
   ]
  },
  {
   "cell_type": "code",
   "execution_count": 16,
   "metadata": {},
   "outputs": [
    {
     "data": {
      "text/plain": [
       "array(['Безналичная'], dtype=object)"
      ]
     },
     "execution_count": 16,
     "metadata": {},
     "output_type": "execute_result"
    }
   ],
   "source": [
    "df['ФормаОплаты'].unique()"
   ]
  },
  {
   "cell_type": "code",
   "execution_count": 44,
   "metadata": {},
   "outputs": [
    {
     "data": {
      "text/plain": [
       "1"
      ]
     },
     "execution_count": 44,
     "metadata": {},
     "output_type": "execute_result"
    }
   ],
   "source": [
    "len(df['ФормаОплаты'].unique())"
   ]
  },
  {
   "cell_type": "code",
   "execution_count": null,
   "metadata": {},
   "outputs": [],
   "source": [
    "items_payment = df.groupby(['Телефон_new']).agg({\n",
    "    'ФормаОплаты': { \n",
    "        'Безналичная': lambda x: pr(x, 'Безналичная'),\n",
    "    } \n",
    "}) \n",
    "\n",
    "items_payment.columns = items_payment.columns.get_level_values(1) \n",
    "items_payment = items_payment.groupby(level = 0).agg('sum') "
   ]
  },
  {
   "cell_type": "markdown",
   "metadata": {},
   "source": [
    "### Гео\n",
    "- ГородМагазина -- 64 уникальных значений (возьмем топ-5 + \"другое\")\n",
    "- МагазинЗаказа -- 89 уникальных значений (номер магазина, не город)\n",
    "- Гео -- 'Москва', 'МО', 'Регионы'  (мало ункиальных значений - 3)"
   ]
  },
  {
   "cell_type": "markdown",
   "metadata": {},
   "source": [
    "#### Добавляем 'ГородМагазина', но так как их очень много (64), то берем с самой большой выручкой как отдельные, а остальные объеденяем как \"Другое\"."
   ]
  },
  {
   "cell_type": "code",
   "execution_count": 28,
   "metadata": {},
   "outputs": [
    {
     "data": {
      "text/plain": [
       "ИнтернетДоставка    503699\n",
       "Калуга                 469\n",
       "Москва                 437\n",
       "Ростов-на-Дону         314\n",
       "Саратов                311\n",
       "                     ...  \n",
       "Балаково                19\n",
       "Улан-Удэ                17\n",
       "Казань                  17\n",
       "Реутов                  11\n",
       "Стерлитамак             11\n",
       "Name: ГородМагазина, Length: 64, dtype: int64"
      ]
     },
     "execution_count": 28,
     "metadata": {},
     "output_type": "execute_result"
    }
   ],
   "source": [
    "df['ГородМагазина'].value_counts()"
   ]
  },
  {
   "cell_type": "code",
   "execution_count": 31,
   "metadata": {},
   "outputs": [],
   "source": [
    "arr_CityShop = df['ГородМагазина'].unique()\n",
    "\n",
    "for reg in arr_CityShop:\n",
    "    if (reg != 'ИнтернетДоставка' and reg != 'Калуга' and reg != 'Москва' and \n",
    "        reg != 'Ростов-на-Дону' and reg != 'Саратов'): \n",
    "        \n",
    "        df.loc[df['ГородМагазина'] == reg, 'ГородМагазина'] = 'Другой'"
   ]
  },
  {
   "cell_type": "code",
   "execution_count": 32,
   "metadata": {},
   "outputs": [
    {
     "data": {
      "text/plain": [
       "array(['ИнтернетДоставка', 'Другой', 'Ростов-на-Дону', 'Москва',\n",
       "       'Саратов', 'Калуга'], dtype=object)"
      ]
     },
     "execution_count": 32,
     "metadata": {},
     "output_type": "execute_result"
    }
   ],
   "source": [
    "df['ГородМагазина'].unique()"
   ]
  },
  {
   "cell_type": "code",
   "execution_count": 36,
   "metadata": {},
   "outputs": [],
   "source": [
    "items_CityShop = df.groupby(['Телефон_new']).agg({\n",
    "    'ГородМагазина': { \n",
    "        'ИнтернетДоставка': lambda x: pr(x, 'ИнтернетДоставка'), \n",
    "        'Калуга': lambda x: pr(x, 'Калуга'), \n",
    "        'Москва': lambda x: pr(x, 'Москва'), \n",
    "        'Ростов-на-Дону': lambda x: pr(x, 'Ростов-на-Дону'), \n",
    "        'Саратов': lambda x: pr(x, 'Саратов'), \n",
    "        'Другой': lambda x: pr(x, 'Другой'), \n",
    "    } \n",
    "})\n",
    "\n",
    "items_CityShop.columns = items_CityShop.columns.get_level_values(1) \n",
    "items_CityShop = items_CityShop.groupby(level = 0).agg('sum') "
   ]
  },
  {
   "cell_type": "code",
   "execution_count": 37,
   "metadata": {},
   "outputs": [
    {
     "data": {
      "text/plain": [
       "(112594, 6)"
      ]
     },
     "execution_count": 37,
     "metadata": {},
     "output_type": "execute_result"
    }
   ],
   "source": [
    "items_CityShop.shape"
   ]
  },
  {
   "cell_type": "code",
   "execution_count": null,
   "metadata": {},
   "outputs": [],
   "source": [
    "items_CityShop.to_csv('items_CityShop.csv', index=False, sep=';') "
   ]
  },
  {
   "cell_type": "markdown",
   "metadata": {},
   "source": [
    "### Final merge"
   ]
  },
  {
   "cell_type": "code",
   "execution_count": null,
   "metadata": {},
   "outputs": [],
   "source": [
    "items_Group2\n",
    "#items_delivery\n",
    "#items_payment\n",
    "items_CityShop"
   ]
  },
  {
   "cell_type": "code",
   "execution_count": 40,
   "metadata": {},
   "outputs": [],
   "source": [
    "vitrina_Group2  = (vitrina.merge(\n",
    "    items_Group2, on = ['Телефон_new'], how='inner'))\n",
    "\n",
    "#vitrina_Group2_delivery = (vitrina_Group2.merge(\n",
    "#    items_delivery, on = ['Телефон_new'], how='inner'))\n",
    "#\n",
    "#vitrina_Group2_delivery_payment = (vitrina_Group2_delivery.merge(\n",
    "#    items_payment, on = ['Телефон_new'], how='inner'))\n",
    "\n",
    "vitrina_Group2_region = (vitrina_Group2.merge(\n",
    "    items_CityShop, on = ['Телефон_new'], how='inner'))"
   ]
  },
  {
   "cell_type": "code",
   "execution_count": 41,
   "metadata": {},
   "outputs": [
    {
     "data": {
      "text/plain": [
       "(112594, 40)"
      ]
     },
     "execution_count": 41,
     "metadata": {},
     "output_type": "execute_result"
    }
   ],
   "source": [
    "vitrina_Group2_region.shape "
   ]
  },
  {
   "cell_type": "code",
   "execution_count": 43,
   "metadata": {},
   "outputs": [],
   "source": [
    "vitrina_Group2_region = vitrina_Group2_region[(vitrina_Group2_region['Телефон_new'] != '0')] "
   ]
  },
  {
   "cell_type": "code",
   "execution_count": 45,
   "metadata": {},
   "outputs": [],
   "source": [
    "vitrina_Group2_region.to_csv('vitrina_Group2_region.csv', index=False, sep=';')"
   ]
  },
  {
   "cell_type": "markdown",
   "metadata": {},
   "source": [
    "# --------------------------------------------------------------------------------------"
   ]
  },
  {
   "cell_type": "markdown",
   "metadata": {},
   "source": [
    "### По процентам / долям"
   ]
  },
  {
   "cell_type": "code",
   "execution_count": 46,
   "metadata": {},
   "outputs": [],
   "source": [
    "vitrina_Group2_region = pd.read_csv('vitrina_Group2_region.csv', sep=';') "
   ]
  },
  {
   "cell_type": "code",
   "execution_count": 47,
   "metadata": {},
   "outputs": [],
   "source": [
    "vitrina1 = vitrina_Group2_region.copy() "
   ]
  },
  {
   "cell_type": "code",
   "execution_count": 48,
   "metadata": {},
   "outputs": [
    {
     "data": {
      "text/plain": [
       "Index(['Дата', 'ДатаДоставки', 'НомерЗаказаНаСайте', 'НовыйСтатус',\n",
       "       'СуммаЗаказаНаСайте', 'СуммаДокумента', 'МетодДоставки', 'ФормаОплаты',\n",
       "       'Регион', 'Группа2', 'Группа3', 'Группа4', 'Тип', 'Номенклатура',\n",
       "       'ТипТовара', 'Отменено', 'ПричинаОтмены', 'Количество', 'Цена',\n",
       "       'СуммаСтроки', 'ЦенаЗакупки', 'МесяцДатыЗаказа', 'ГодДатыЗаказа',\n",
       "       'ПВЗ_код', 'Статус', 'Гео', 'Маржа', 'СуммаУслуг', 'СуммаДоставки',\n",
       "       'НомерСтроки', 'КоличествоПроданоКлиенту', 'ДатаЗаказаНаСайте',\n",
       "       'Телефон_new', 'ЭлектроннаяПочта_new', 'Клиент', 'ID_SKU',\n",
       "       'ГородМагазина', 'МагазинЗаказа', 'Нов_СуммаЗаказаНаСайте',\n",
       "       'Нов_СуммаСтроки', 'Нов_Маржа', 'Дата_дата', 'ДеньНеделиЦифра',\n",
       "       'ДеньНедели', 'ВремяОкругл'],\n",
       "      dtype='object')"
      ]
     },
     "execution_count": 48,
     "metadata": {},
     "output_type": "execute_result"
    }
   ],
   "source": [
    "df.columns"
   ]
  },
  {
   "cell_type": "code",
   "execution_count": 53,
   "metadata": {},
   "outputs": [
    {
     "data": {
      "text/plain": [
       "array(['ИнтернетДоставка', 'Другой', 'Ростов-на-Дону', 'Москва',\n",
       "       'Саратов', 'Калуга'], dtype=object)"
      ]
     },
     "execution_count": 53,
     "metadata": {},
     "output_type": "execute_result"
    }
   ],
   "source": [
    "df['ГородМагазина'].unique()"
   ]
  },
  {
   "cell_type": "code",
   "execution_count": 54,
   "metadata": {},
   "outputs": [],
   "source": [
    "vitrina1['sum_Group2'] = vitrina1.loc[:, 'КРУПНОГАБАРИТНЫЙ ТОВАР':'ТОВАРЫ ДЛЯ ЖИВОТНЫХ'].sum(axis=1)\n",
    "#vitrina1['sum_DeliveryType'] = vitrina1.loc[:, 'Самовывоз':'Курьерская'].sum(axis=1)s\n",
    "#vitrina1['sum_PaymentType'] = vitrina1.loc[:, 'КартойПриПолучении':'Банк Тинькофф'].sum(axis=1)\n",
    "vitrina1['sum_Region'] = vitrina1.loc[:, 'ИнтернетДоставка':'Калуга'].sum(axis=1)"
   ]
  },
  {
   "cell_type": "code",
   "execution_count": 56,
   "metadata": {},
   "outputs": [],
   "source": [
    "col_Group2 = ['КРУПНОГАБАРИТНЫЙ ТОВАР', 'ТЕКСТИЛЬ, ТРИКОТАЖ', 'ОБУВЬ',\n",
    "       'КАНЦТОВАРЫ, КНИГИ, ДИСКИ', 'ТОВАРЫ ДЛЯ КОРМЛЕНИЯ', 'ИГРУШКИ',\n",
    "       'КОСМЕТИКА/ГИГИЕНА', 'СОПУТСТВУЮЩИЕ ТОВАРЫ', 'ЖЕНСКИЕ ШТУЧКИ',\n",
    "       'ПОДГУЗНИКИ', 'ДЕТСКОЕ ПИТАНИЕ', 'ТЕХНИКА И ТОВАРЫ ДЛЯ ДОМА',\n",
    "       'ТОВАРЫ ДЛЯ ЖИВОТНЫХ']\n",
    "\n",
    "#col_DeliveryType = ['Самовывоз', 'Курьерская']\n",
    "#\n",
    "#col_PaymentType = ['КартойПриПолучении', 'Наличные', 'PayPal', 'Квитанция Сбербанка',\n",
    "#                   'RBK Money', 'Кредит в магазине','Банк Тинькофф']\n",
    "\n",
    "col_Region = ['ИнтернетДоставка', 'Другой', 'Ростов-на-Дону', 'Москва', 'Саратов', 'Калуга']"
   ]
  },
  {
   "cell_type": "code",
   "execution_count": 57,
   "metadata": {},
   "outputs": [],
   "source": [
    "for col in col_Group2: \n",
    "    vitrina1[col] = vitrina1[col]/vitrina1['sum_Group2']\n",
    "\n",
    "#for col in col_DeliveryType: \n",
    "#    vitrina1[col] = vitrina1[col]/vitrina1['sum_DeliveryType']\n",
    "#\n",
    "#for col in col_PaymentType: \n",
    "#    vitrina1[col] = vitrina1[col]/vitrina1['sum_PaymentType']\n",
    "\n",
    "for col in col_Region: \n",
    "    vitrina1[col] = vitrina1[col]/vitrina1['sum_Region']"
   ]
  },
  {
   "cell_type": "code",
   "execution_count": 58,
   "metadata": {},
   "outputs": [],
   "source": [
    "del vitrina1['sum_Group2']\n",
    "#del vitrina1['sum_DeliveryType']\n",
    "#del vitrina1['sum_PaymentType']\n",
    "del vitrina1['sum_Region']"
   ]
  },
  {
   "cell_type": "code",
   "execution_count": 62,
   "metadata": {},
   "outputs": [],
   "source": [
    "vitrina1.to_csv('vitrina_final.csv', index=False, sep=';') "
   ]
  },
  {
   "cell_type": "code",
   "execution_count": 65,
   "metadata": {},
   "outputs": [
    {
     "data": {
      "text/plain": [
       "Index(['Телефон_new', 'Выручка_buyed', 'Абсолютная маржа_buyed', 'Маржа_buyed',\n",
       "       'Средняя маржа_buyed', 'Средний чек_buyed', 'Кол-во чеков_buyed',\n",
       "       'Кол-во товаров_buyed', 'Среднее кол-во товаров в  чеке_buyed',\n",
       "       'Кол-во уникальных клиентов_buyed', 'Ценность клиента_buyed',\n",
       "       'Выручка_all', 'Абсолютная маржа_all', 'Маржа_all', 'Средняя маржа_all',\n",
       "       'Средний чек_all', 'Кол-во чеков_all', 'Кол-во товаров_all',\n",
       "       'Среднее кол-во товаров в  чеке_all', 'Кол-во уникальных клиентов_all',\n",
       "       'Ценность клиента_all', 'КРУПНОГАБАРИТНЫЙ ТОВАР', 'ТЕКСТИЛЬ, ТРИКОТАЖ',\n",
       "       'ОБУВЬ', 'КАНЦТОВАРЫ, КНИГИ, ДИСКИ', 'ТОВАРЫ ДЛЯ КОРМЛЕНИЯ', 'ИГРУШКИ',\n",
       "       'КОСМЕТИКА/ГИГИЕНА', 'СОПУТСТВУЮЩИЕ ТОВАРЫ', 'ЖЕНСКИЕ ШТУЧКИ',\n",
       "       'ПОДГУЗНИКИ', 'ДЕТСКОЕ ПИТАНИЕ', 'ТЕХНИКА И ТОВАРЫ ДЛЯ ДОМА',\n",
       "       'ТОВАРЫ ДЛЯ ЖИВОТНЫХ', 'ИнтернетДоставка', 'Калуга', 'Москва',\n",
       "       'Ростов-на-Дону', 'Саратов', 'Другой'],\n",
       "      dtype='object')"
      ]
     },
     "execution_count": 65,
     "metadata": {},
     "output_type": "execute_result"
    }
   ],
   "source": [
    "vitrina1.columns"
   ]
  },
  {
   "cell_type": "code",
   "execution_count": null,
   "metadata": {},
   "outputs": [],
   "source": []
  },
  {
   "cell_type": "code",
   "execution_count": null,
   "metadata": {},
   "outputs": [],
   "source": []
  }
 ],
 "metadata": {
  "kernelspec": {
   "display_name": "Python 3",
   "language": "python",
   "name": "python3"
  },
  "language_info": {
   "codemirror_mode": {
    "name": "ipython",
    "version": 3
   },
   "file_extension": ".py",
   "mimetype": "text/x-python",
   "name": "python",
   "nbconvert_exporter": "python",
   "pygments_lexer": "ipython3",
   "version": "3.8.0"
  }
 },
 "nbformat": 4,
 "nbformat_minor": 2
}
